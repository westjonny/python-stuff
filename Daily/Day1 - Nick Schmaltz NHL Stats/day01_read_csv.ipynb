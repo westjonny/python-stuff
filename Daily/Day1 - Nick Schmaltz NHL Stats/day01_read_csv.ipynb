{
 "cells": [
  {
   "cell_type": "code",
   "execution_count": null,
   "id": "4275b704",
   "metadata": {},
   "outputs": [],
   "source": [
    "import pandas as pd"
   ]
  },
  {
   "cell_type": "code",
   "execution_count": null,
   "id": "09d5b733",
   "metadata": {},
   "outputs": [],
   "source": [
    "# Read the CSV file\n",
    "df = pd.read_csv('schmaltz_2024-25_game_log.csv')\n",
    "# df = pd.read_csv(name)\n",
    "\n",
    "# Print basic information\n",
    "print(\"=\" * 50)\n",
    "print(\"DATASET OVERVIEW\")\n",
    "print(\"=\" * 50)\n",
    "\n",
    "print(f\"\\nNumber of rows: {len(df)}\")\n",
    "print(f\"Number of columns: {len(df.columns)}\")\n",
    "print(f\"Shape (rows, columns): {df.shape}\")\n",
    "\n",
    "print(\"\\n\" + \"=\" * 50)\n",
    "print(\"COLUMN INFORMATION\")\n",
    "print(\"=\" * 50)\n",
    "print(f\"\\nColumn names: {df.columns.tolist()}\")\n",
    "print(\"\\nData types:\")\n",
    "print(df.dtypes)\n",
    "\n",
    "print(\"\\n\" + \"=\" * 50)\n",
    "print(\"DATA PREVIEW\")\n",
    "print(\"=\" * 50)\n",
    "print(df.head())\n",
    "\n",
    "print(\"\\n\" + \"=\" * 50)\n",
    "print(\"MISSING VALUES\")\n",
    "print(\"=\" * 50)\n",
    "print(df.isnull().sum())\n",
    "\n",
    "print(\"\\n\" + \"=\" * 50)\n",
    "print(\"NUMERIC STATISTICS\")\n",
    "print(\"=\" * 50)\n",
    "print(df.describe())\n"
   ]
  }
 ],
 "metadata": {
  "language_info": {
   "name": "python"
  }
 },
 "nbformat": 4,
 "nbformat_minor": 5
}
